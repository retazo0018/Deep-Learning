{
  "nbformat": 4,
  "nbformat_minor": 0,
  "metadata": {
    "colab": {
      "name": "tensorflowscratchbook1.ipynb",
      "provenance": [],
      "collapsed_sections": [],
      "include_colab_link": true
    },
    "kernelspec": {
      "name": "python3",
      "display_name": "Python 3"
    }
  },
  "cells": [
    {
      "cell_type": "markdown",
      "metadata": {
        "id": "view-in-github",
        "colab_type": "text"
      },
      "source": [
        "<a href=\"https://colab.research.google.com/github/retazo0018/Deep-Learning/blob/master/tensorflowscratchbook1.ipynb\" target=\"_parent\"><img src=\"https://colab.research.google.com/assets/colab-badge.svg\" alt=\"Open In Colab\"/></a>"
      ]
    },
    {
      "cell_type": "markdown",
      "metadata": {
        "id": "AhZ5n-HDpTkU",
        "colab_type": "text"
      },
      "source": [
        "# Import package\n"
      ]
    },
    {
      "cell_type": "code",
      "metadata": {
        "id": "9BSSXaOQOHFS",
        "colab_type": "code",
        "outputId": "f130be34-8f86-4d01-fc0b-e0b54cfabf62",
        "colab": {
          "base_uri": "https://localhost:8080/",
          "height": 63
        }
      },
      "source": [
        "import tensorflow as tf\n",
        "import numpy as np"
      ],
      "execution_count": 2,
      "outputs": [
        {
          "output_type": "display_data",
          "data": {
            "text/html": [
              "<p style=\"color: red;\">\n",
              "The default version of TensorFlow in Colab will soon switch to TensorFlow 2.x.<br>\n",
              "We recommend you <a href=\"https://www.tensorflow.org/guide/migrate\" target=\"_blank\">upgrade</a> now \n",
              "or ensure your notebook will continue to use TensorFlow 1.x via the <code>%tensorflow_version 1.x</code> magic:\n",
              "<a href=\"https://colab.research.google.com/notebooks/tensorflow_version.ipynb\" target=\"_blank\">more info</a>.</p>\n"
            ],
            "text/plain": [
              "<IPython.core.display.HTML object>"
            ]
          },
          "metadata": {
            "tags": []
          }
        }
      ]
    },
    {
      "cell_type": "markdown",
      "metadata": {
        "id": "ThJD1w3xpbKK",
        "colab_type": "text"
      },
      "source": [
        "# Tensorflow basics:\n",
        "1. Constants\n",
        "2. Placeholders\n",
        "3. Variables"
      ]
    },
    {
      "cell_type": "markdown",
      "metadata": {
        "id": "i5QMc0qLpk9o",
        "colab_type": "text"
      },
      "source": [
        "### TF Constant"
      ]
    },
    {
      "cell_type": "code",
      "metadata": {
        "id": "4FiE7NpqPNBH",
        "colab_type": "code",
        "outputId": "70c7e64a-ca5f-451c-fb6f-a1f60c27c64e",
        "colab": {
          "base_uri": "https://localhost:8080/",
          "height": 34
        }
      },
      "source": [
        "# Defining Constant of string type\n",
        "hello_constant =  tf.constant(\"Hello World!\")\n",
        "print(hello_constant)"
      ],
      "execution_count": 3,
      "outputs": [
        {
          "output_type": "stream",
          "text": [
            "Tensor(\"Const:0\", shape=(), dtype=string)\n"
          ],
          "name": "stdout"
        }
      ]
    },
    {
      "cell_type": "markdown",
      "metadata": {
        "id": "VTbEGURNsnl7",
        "colab_type": "text"
      },
      "source": [
        "##### Two ways to view the output of a computation"
      ]
    },
    {
      "cell_type": "code",
      "metadata": {
        "id": "-xAG4bBNO6nH",
        "colab_type": "code",
        "outputId": "c83a8a9d-98d0-4546-bae4-8b9178d41089",
        "colab": {
          "base_uri": "https://localhost:8080/",
          "height": 34
        }
      },
      "source": [
        "# Method 1\n",
        "with tf.Session() as sess:\n",
        "  # Run the tf.constant operation in the session\n",
        "  output = sess.run(hello_constant) # decode\n",
        "  print(output)"
      ],
      "execution_count": 4,
      "outputs": [
        {
          "output_type": "stream",
          "text": [
            "b'Hello World!'\n"
          ],
          "name": "stdout"
        }
      ]
    },
    {
      "cell_type": "code",
      "metadata": {
        "id": "DbWd40DEscDm",
        "colab_type": "code",
        "colab": {
          "base_uri": "https://localhost:8080/",
          "height": 34
        },
        "outputId": "3e64bae9-4f2b-40d3-adea-81a702ab5013"
      },
      "source": [
        "# Method 2\n",
        "sess = tf.Session()\n",
        "sess.run(hello_constant)\n",
        "sess.close()"
      ],
      "execution_count": 51,
      "outputs": [
        {
          "output_type": "execute_result",
          "data": {
            "text/plain": [
              "b'Hello World!'"
            ]
          },
          "metadata": {
            "tags": []
          },
          "execution_count": 51
        }
      ]
    },
    {
      "cell_type": "code",
      "metadata": {
        "id": "cPyEGBoIOaKq",
        "colab_type": "code",
        "outputId": "46deaf1b-7d7e-4ba6-d19e-037dd57dbddc",
        "colab": {
          "base_uri": "https://localhost:8080/",
          "height": 51
        }
      },
      "source": [
        "# Defining constants of float type\n",
        "node1 = tf.constant(3.0, tf.float32)\n",
        "node2 = tf.constant(4.0) # also tf.float32 implicitly\n",
        "print(node1,node2)\n",
        "\n",
        "sess = tf.Session()\n",
        "print(sess.run([node1,node2]))\n",
        "sess.close() # must to close the session"
      ],
      "execution_count": 52,
      "outputs": [
        {
          "output_type": "stream",
          "text": [
            "Tensor(\"Const_9:0\", shape=(), dtype=float32) Tensor(\"Const_10:0\", shape=(), dtype=float32)\n",
            "[3.0, 4.0]\n"
          ],
          "name": "stdout"
        }
      ]
    },
    {
      "cell_type": "code",
      "metadata": {
        "id": "zsuTrtR0OaUe",
        "colab_type": "code",
        "colab": {
          "base_uri": "https://localhost:8080/",
          "height": 34
        },
        "outputId": "fc4473e2-2bd9-4166-afc5-41936e872f8c"
      },
      "source": [
        "# Multiply 2 float constants\n",
        "a = tf.constant(4.0)\n",
        "b = tf.constant(6.0)\n",
        "c = a*b\n",
        "print(c)\n",
        "\n",
        "\n",
        "sess = tf.Session()\n",
        "print(sess.run(c))\n",
        "sess.close()"
      ],
      "execution_count": 7,
      "outputs": [
        {
          "output_type": "stream",
          "text": [
            "Tensor(\"mul:0\", shape=(), dtype=float32)\n"
          ],
          "name": "stdout"
        }
      ]
    },
    {
      "cell_type": "markdown",
      "metadata": {
        "id": "Bu2zXM1CsUyy",
        "colab_type": "text"
      },
      "source": [
        "Basic Math in tensorflow"
      ]
    },
    {
      "cell_type": "code",
      "metadata": {
        "id": "mT2fQx2A3sXx",
        "colab_type": "code",
        "colab": {}
      },
      "source": [
        "x = tf.add(5,2)\n",
        "y = tf.multiply(2,5)\n",
        "z = tf.subtract(2,3)\n",
        "d = tf.divide(5,1)\n",
        "# matmul - > matrix multiplication"
      ],
      "execution_count": 0,
      "outputs": []
    },
    {
      "cell_type": "code",
      "metadata": {
        "id": "YQYN1AMK3sa2",
        "colab_type": "code",
        "colab": {}
      },
      "source": [
        "tf.subtract(tf.constant(2.0),tf.constant(1)) # value_error due to not doing type casting"
      ],
      "execution_count": 0,
      "outputs": []
    },
    {
      "cell_type": "code",
      "metadata": {
        "id": "-kjxnokASaV3",
        "colab_type": "code",
        "colab": {
          "base_uri": "https://localhost:8080/",
          "height": 34
        },
        "outputId": "80865bb2-0a89-44f9-c61f-6fca82fb9e5b"
      },
      "source": [
        "tf.subtract(tf.cast(tf.constant(2.0), tf.int32),tf.constant(1))"
      ],
      "execution_count": 19,
      "outputs": [
        {
          "output_type": "execute_result",
          "data": {
            "text/plain": [
              "<tf.Tensor 'Sub_2:0' shape=() dtype=int32>"
            ]
          },
          "metadata": {
            "tags": []
          },
          "execution_count": 19
        }
      ]
    },
    {
      "cell_type": "markdown",
      "metadata": {
        "id": "qI3GQ8f5p0Ks",
        "colab_type": "text"
      },
      "source": [
        "## Tensorflow placeholders\n",
        "  ### A placeholder is a promise to provide a value later."
      ]
    },
    {
      "cell_type": "code",
      "metadata": {
        "id": "C0dcdeot0Z-U",
        "colab_type": "code",
        "colab": {
          "base_uri": "https://localhost:8080/",
          "height": 34
        },
        "outputId": "9c994066-ef54-4127-c1d3-063c943a5449"
      },
      "source": [
        "a = tf.placeholder(tf.float32)\n",
        "b = tf.placeholder(tf.float32)\n",
        "addernode = a+b\n",
        "sess = tf.Session()\n",
        "print(sess.run(addernode, feed_dict = {a: [1, 2, 3], b: [3,2,1]}))\n",
        " \n",
        "sess.close()"
      ],
      "execution_count": 10,
      "outputs": [
        {
          "output_type": "stream",
          "text": [
            "[4. 4. 4.]\n"
          ],
          "name": "stdout"
        }
      ]
    },
    {
      "cell_type": "markdown",
      "metadata": {
        "id": "iMnbQhqsp9kw",
        "colab_type": "text"
      },
      "source": [
        "## Tensorflow variables\n",
        "*  Variables allow us to add trainable parameters to a graph\n",
        "* ### y = .2 + .3*x"
      ]
    },
    {
      "cell_type": "code",
      "metadata": {
        "id": "rsrBPVO93sSY",
        "colab_type": "code",
        "colab": {
          "base_uri": "https://localhost:8080/",
          "height": 34
        },
        "outputId": "d6e28feb-276b-4c47-f4ef-3902f918f01c"
      },
      "source": [
        "W1 = tf.Variable([.5], tf.float32)\n",
        "# important : need to run below code to initialize the variables()\n",
        "init = tf.global_variables_initializer()\n",
        "sess = tf.Session()\n",
        "sess.run(init)\n",
        "print(sess.run(W1))\n",
        "sess.close()"
      ],
      "execution_count": 12,
      "outputs": [
        {
          "output_type": "stream",
          "text": [
            "[0.5]\n"
          ],
          "name": "stdout"
        }
      ]
    },
    {
      "cell_type": "markdown",
      "metadata": {
        "id": "JyMImIwmqGkU",
        "colab_type": "text"
      },
      "source": [
        "# Model"
      ]
    },
    {
      "cell_type": "code",
      "metadata": {
        "id": "vz4n_MMe3sUy",
        "colab_type": "code",
        "colab": {
          "base_uri": "https://localhost:8080/",
          "height": 51
        },
        "outputId": "d5aa750d-e240-4bc3-d7fc-4109b20ab20c"
      },
      "source": [
        "# A linear model example\n",
        "# y = b + w*x\n",
        "w = tf.Variable([0.3], tf.float32)\n",
        "b = tf.Variable([-.9], tf.float32)\n",
        "x = tf.placeholder(tf.float32)\n",
        "\n",
        "linear_model = w*x + b\n",
        "init = tf.global_variables_initializer()\n",
        "\n",
        "sess = tf.Session()\n",
        "sess.run(init)\n",
        "print(sess.run(linear_model, {x:[1,2,3,4,5,6,7]}))\n",
        "sess.close()"
      ],
      "execution_count": 15,
      "outputs": [
        {
          "output_type": "stream",
          "text": [
            "[-5.9999996e-01 -2.9999995e-01  5.9604645e-08  3.0000007e-01\n",
            "  6.0000002e-01  9.0000010e-01  1.2000002e+00]\n"
          ],
          "name": "stdout"
        }
      ]
    },
    {
      "cell_type": "markdown",
      "metadata": {
        "id": "Sr0Va9xYqhUg",
        "colab_type": "text"
      },
      "source": [
        "# Activation function"
      ]
    },
    {
      "cell_type": "markdown",
      "metadata": {
        "id": "6r6RKr7wqsbX",
        "colab_type": "text"
      },
      "source": [
        "Sigmoid :\n",
        "  * 1 / 1+exp(-x)"
      ]
    },
    {
      "cell_type": "code",
      "metadata": {
        "id": "FR9GAOY3Yo6E",
        "colab_type": "code",
        "colab": {
          "base_uri": "https://localhost:8080/",
          "height": 136
        },
        "outputId": "f13a1503-1c3e-4d87-d4b7-479ff51cb181"
      },
      "source": [
        "def sigmoid(a):\n",
        "  return 1/(1+np.exp(-a))\n",
        "sigmoid(.3)\n",
        "a = [1,2,4,0,-6,5,-7]\n",
        "for i in a:\n",
        "  print(sigmoid(i))"
      ],
      "execution_count": 21,
      "outputs": [
        {
          "output_type": "stream",
          "text": [
            "0.7310585786300049\n",
            "0.8807970779778823\n",
            "0.9820137900379085\n",
            "0.5\n",
            "0.0024726231566347743\n",
            "0.9933071490757153\n",
            "0.0009110511944006454\n"
          ],
          "name": "stdout"
        }
      ]
    },
    {
      "cell_type": "markdown",
      "metadata": {
        "id": "hrpLBveMqxYb",
        "colab_type": "text"
      },
      "source": [
        "tanh(a) = (e^a - e^-a)/e^a + e^-a"
      ]
    },
    {
      "cell_type": "code",
      "metadata": {
        "id": "03i2GokcZSlB",
        "colab_type": "code",
        "colab": {
          "base_uri": "https://localhost:8080/",
          "height": 136
        },
        "outputId": "95c37a8a-a10d-449e-9f45-b9f6bde9192d"
      },
      "source": [
        "def tanh(a):\n",
        "  return np.tanh(a)\n",
        "print(tanh(.3))\n",
        "for i in [-4,-2,0,1,2,4]:\n",
        "  print(tanh(i))"
      ],
      "execution_count": 22,
      "outputs": [
        {
          "output_type": "stream",
          "text": [
            "0.2913126124515909\n",
            "-0.999329299739067\n",
            "-0.9640275800758169\n",
            "0.0\n",
            "0.7615941559557649\n",
            "0.9640275800758169\n",
            "0.999329299739067\n"
          ],
          "name": "stdout"
        }
      ]
    },
    {
      "cell_type": "markdown",
      "metadata": {
        "id": "Vwx38mSOq0ms",
        "colab_type": "text"
      },
      "source": [
        "Relu"
      ]
    },
    {
      "cell_type": "code",
      "metadata": {
        "id": "AObcewPFZSpC",
        "colab_type": "code",
        "colab": {
          "base_uri": "https://localhost:8080/",
          "height": 136
        },
        "outputId": "e5d77995-a305-496f-c45b-cb2267623968"
      },
      "source": [
        "def relu(a):\n",
        "  return np.maximum(0,a)\n",
        "for i in [-2,0,3,-5,1,4,2]:\n",
        "  print(relu(i))"
      ],
      "execution_count": 23,
      "outputs": [
        {
          "output_type": "stream",
          "text": [
            "0\n",
            "0\n",
            "3\n",
            "0\n",
            "1\n",
            "4\n",
            "2\n"
          ],
          "name": "stdout"
        }
      ]
    },
    {
      "cell_type": "markdown",
      "metadata": {
        "id": "woCn9p6Qq44u",
        "colab_type": "text"
      },
      "source": [
        "Softmax"
      ]
    },
    {
      "cell_type": "code",
      "metadata": {
        "id": "kyOisYYqZSiz",
        "colab_type": "code",
        "colab": {
          "base_uri": "https://localhost:8080/",
          "height": 51
        },
        "outputId": "f8c50743-07e8-4b91-b765-0ea684a92897"
      },
      "source": [
        "scores = [12,8,.3]\n",
        "def softmax(a):\n",
        "  return np.exp(a)/np.sum(np.exp(a),axis=0)\n",
        "print(softmax(scores))\n",
        "print(sum(softmax(scores)))"
      ],
      "execution_count": 24,
      "outputs": [
        {
          "output_type": "stream",
          "text": [
            "[9.82005792e-01 1.79860635e-02 8.14457845e-06]\n",
            "1.0\n"
          ],
          "name": "stdout"
        }
      ]
    },
    {
      "cell_type": "markdown",
      "metadata": {
        "id": "9At8eYXmq9SR",
        "colab_type": "text"
      },
      "source": [
        "Combined version of all \n",
        "\n"
      ]
    },
    {
      "cell_type": "code",
      "metadata": {
        "id": "ekS_7RrLabwr",
        "colab_type": "code",
        "colab": {
          "base_uri": "https://localhost:8080/",
          "height": 68
        },
        "outputId": "d8d354f0-3d9b-441f-fe98-60b8fc138241"
      },
      "source": [
        "a = [.2, 1, 0, 3, -2]\n",
        "sigmoid_activation = tf.sigmoid(a)\n",
        "tanh_activation = tf.tanh(a)\n",
        "relu_activation = tf.nn.relu(a)\n",
        "with tf.Session() as sess:\n",
        "  op1 = sess.run(sigmoid_activation)\n",
        "  op2 = sess.run(tanh_activation)\n",
        "  op3 = sess.run(relu_activation)\n",
        "  print(\"sigmoid\", op1)\n",
        "  print(\"tanh\", op2)\n",
        "  print(\"relu\", op3)"
      ],
      "execution_count": 25,
      "outputs": [
        {
          "output_type": "stream",
          "text": [
            "sigmoid [0.54983395 0.7310586  0.5        0.95257413 0.11920292]\n",
            "tanh [ 0.19737528  0.7615942   0.          0.9950547  -0.9640276 ]\n",
            "relu [0.2 1.  0.  3.  0. ]\n"
          ],
          "name": "stdout"
        }
      ]
    },
    {
      "cell_type": "markdown",
      "metadata": {
        "id": "HNv_vcKDrHQp",
        "colab_type": "text"
      },
      "source": [
        "### Truncated Normal function:\n",
        " * To generate random non extreme normally distributed values with mean 0 and sd \n",
        " * Used to initialize weights\n"
      ]
    },
    {
      "cell_type": "code",
      "metadata": {
        "id": "_tgvGogCab0T",
        "colab_type": "code",
        "colab": {
          "base_uri": "https://localhost:8080/",
          "height": 51
        },
        "outputId": "5a9b3417-e1ce-44b2-c76e-f081c3f16b3b"
      },
      "source": [
        "a = tf.truncated_normal([2,3])\n",
        "sess= tf.Session()\n",
        "print(sess.run(a))\n",
        "sess.close()"
      ],
      "execution_count": 29,
      "outputs": [
        {
          "output_type": "stream",
          "text": [
            "[[-0.60765326  0.40921587  0.29480436]\n",
            " [-0.17153586 -1.3209767   0.7068099 ]]\n"
          ],
          "name": "stdout"
        }
      ]
    },
    {
      "cell_type": "markdown",
      "metadata": {
        "id": "G1ns5qLsrOin",
        "colab_type": "text"
      },
      "source": [
        "# Loss function\n",
        "##### loss function - MSE, crossentropy ; crossentropy mainly used in classification problems\n",
        "\n",
        "###### cross entropy - > -sum(y*log(p))"
      ]
    },
    {
      "cell_type": "code",
      "metadata": {
        "id": "jUQ3zomZb47R",
        "colab_type": "code",
        "colab": {
          "base_uri": "https://localhost:8080/",
          "height": 34
        },
        "outputId": "220b1d4e-e86c-47a7-a7f6-6f7c419261e2"
      },
      "source": [
        "w = tf.Variable([0.3], tf.float32)\n",
        "b = tf.Variable([-.9], tf.float32)\n",
        "x = tf.placeholder(tf.float32)\n",
        "y = tf.placeholder(tf.float32)\n",
        "\n",
        "linear_model = w*x + b\n",
        "\n",
        "#  .3 * 1 + -.3 = 0\n",
        "# (0-0)^2 = 0\n",
        "# 2, 3 = -1\n",
        "# 3, 2 = -1\n",
        "# 0\n",
        "# x^2 = 2x\n",
        "\n",
        "# sum(actual-predicted)^2\n",
        "\n",
        "squared_delta = tf.square(linear_model - y) # y- actual value, linear_model - predicted value\n",
        "loss = tf.reduce_sum(squared_delta)\n",
        "\n",
        "init = tf.global_variables_initializer()\n",
        "sess = tf.Session()\n",
        "sess.run(init)\n",
        "print(sess.run(loss, {x:[1,2,3,4], y:[0,-1,-2,-3]}))\n",
        "sess.close()\n"
      ],
      "execution_count": 32,
      "outputs": [
        {
          "output_type": "stream",
          "text": [
            "15.740002\n"
          ],
          "name": "stdout"
        }
      ]
    },
    {
      "cell_type": "markdown",
      "metadata": {
        "id": "wgwoLfF7rfbr",
        "colab_type": "text"
      },
      "source": [
        "# Optimizer\n",
        "##### Optimizer modifies each variable according to magnitude of the derivative of loss with respect to that variable "
      ]
    },
    {
      "cell_type": "code",
      "metadata": {
        "id": "wMbNwuvxb40H",
        "colab_type": "code",
        "colab": {
          "base_uri": "https://localhost:8080/",
          "height": 51
        },
        "outputId": "b041d5ef-f291-4b0b-d262-ae85a1168398"
      },
      "source": [
        "w = tf.Variable([0.5], tf.float32)\n",
        "b = tf.Variable([.1], tf.float32)\n",
        "x = tf.placeholder(tf.float32)\n",
        "y = tf.placeholder(tf.float32)\n",
        "\n",
        "\n",
        "init = tf.global_variables_initializer()\n",
        "sess = tf.Session()\n",
        "sess.run(init)\n",
        "\n",
        "print(\"Initial weight:\", sess.run(w), end=\"; \")\n",
        "print(\"Initial bias:\", sess.run(b))\n",
        "\n",
        "linear_model = w*x + b\n",
        "\n",
        "squared_delta = tf.square(linear_model - y) # y- actual value, linear_model - predicted value\n",
        "loss = tf.reduce_sum(squared_delta)\n",
        "\n",
        "\n",
        "optimizer = tf.train.GradientDescentOptimizer(0.01)\n",
        "train = optimizer.minimize(loss)\n",
        "\n",
        "for i in range(3):\n",
        "  sess.run(train, {x:[1,2,3,4], y:[0,-1,-2,-3]})\n",
        "\n",
        "\n",
        "print(\"Optimized weight:\", sess.run(w), end=\"; \")\n",
        "print(\"Optimized bias:\", sess.run(b))"
      ],
      "execution_count": 44,
      "outputs": [
        {
          "output_type": "stream",
          "text": [
            "Initial weight: [0.5]; Initial bias: [0.1]\n",
            "Optimized weight: [-0.54620796]; Optimized bias: [-0.2057792]\n"
          ],
          "name": "stdout"
        }
      ]
    }
  ]
}