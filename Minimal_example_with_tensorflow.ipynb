{
  "nbformat": 4,
  "nbformat_minor": 0,
  "metadata": {
    "colab": {
      "name": "Minimal_example_with_tensorflow.ipynb",
      "provenance": [],
      "collapsed_sections": [],
      "include_colab_link": true
    },
    "kernelspec": {
      "name": "python3",
      "display_name": "Python 3"
    }
  },
  "cells": [
    {
      "cell_type": "markdown",
      "metadata": {
        "id": "view-in-github",
        "colab_type": "text"
      },
      "source": [
        "<a href=\"https://colab.research.google.com/github/retazo0018/Deep-Learning/blob/master/Minimal_example_with_tensorflow.ipynb\" target=\"_parent\"><img src=\"https://colab.research.google.com/assets/colab-badge.svg\" alt=\"Open In Colab\"/></a>"
      ]
    },
    {
      "cell_type": "markdown",
      "metadata": {
        "id": "Mc-7wyrBJUj_",
        "colab_type": "text"
      },
      "source": [
        "# Import libraries"
      ]
    },
    {
      "cell_type": "code",
      "metadata": {
        "id": "bRBRg3lTJOk6",
        "colab_type": "code",
        "colab": {}
      },
      "source": [
        "import numpy as np\n",
        "import matplotlib.pyplot as plt\n",
        "import tensorflow.compat.v1 as tf\n",
        "tf.disable_v2_behavior()"
      ],
      "execution_count": 0,
      "outputs": []
    },
    {
      "cell_type": "markdown",
      "metadata": {
        "id": "V8ahdFosJ0qm",
        "colab_type": "text"
      },
      "source": [
        "# Data Generation"
      ]
    },
    {
      "cell_type": "code",
      "metadata": {
        "id": "_Uyzyt35JyNP",
        "colab_type": "code",
        "colab": {}
      },
      "source": [
        "observations = 1000\n",
        "xs = np.random.uniform(low=-10,high=10,size=(observations,1))\n",
        "zs = np.random.uniform(-10,10,(observations,1))\n",
        "generated_inputs = np.column_stack((xs,zs))\n",
        "noise = np.random.uniform(-1,1,(observations,1))\n",
        "generated_targets = 2*xs - 3*zs + 5 +noise\n",
        "\n",
        "# Main step in data preprocessing in Tensor Flow\n",
        "# To have the data in tensors so as to better computation by TF\n",
        "# One solution is to save the file in .npz file format which is the numpy's file type that stores n-dimensional arrays\n",
        "# Tensors can be represented in n dimensional arrays\n",
        "# data - > preprocess -> save in .npz\n",
        "np.savez('TF_intro', inputs=generated_inputs,targets=generated_targets) # We want a format that can store the information in tensors\n",
        "# 'TF_intro is the file name\n"
      ],
      "execution_count": 0,
      "outputs": []
    },
    {
      "cell_type": "markdown",
      "metadata": {
        "id": "MME4L5r5Mbdl",
        "colab_type": "text"
      },
      "source": [
        "# Solving using Tensorflow"
      ]
    },
    {
      "cell_type": "code",
      "metadata": {
        "id": "5JXL3KfSMehV",
        "colab_type": "code",
        "colab": {}
      },
      "source": [
        "training_data = np.load('TF_intro.npz') # its good to get used to loading your data from NPZs"
      ],
      "execution_count": 0,
      "outputs": []
    },
    {
      "cell_type": "markdown",
      "metadata": {
        "id": "QwFSMKV1atbA",
        "colab_type": "text"
      },
      "source": [
        "##### Understanding why is verbose parameter?\n",
        "* verbose = 1 (silent)\n",
        "* verbose = 2 (stands for progress bar)\n",
        "* verbose = 3 (stands for 1 line per epoch)"
      ]
    },
    {
      "cell_type": "code",
      "metadata": {
        "id": "dojh4RQJOYYO",
        "colab_type": "code",
        "outputId": "f941a6d3-34f0-4567-acad-88b26fca0005",
        "colab": {
          "base_uri": "https://localhost:8080/",
          "height": 34
        }
      },
      "source": [
        "input_size = 2 # two input variables (xs,zs)\n",
        "output_size = 1 # only one output\n",
        "\n",
        "model = tf.keras.Sequential([\n",
        "                             tf.keras.layers.Dense(\n",
        "                                output_size,\n",
        "                                kernel_initializer = tf.random_uniform_initializer(minval=-0.1,maxval=0.1),\n",
        "                                bias_initializer = tf.random_uniform_initializer(minval=-0.1,maxval=0.1)\n",
        "                             )\n",
        "]) \n",
        "# sequential funciton specifies how the model will be laid down ('stacks layers')\n",
        "# Linear combination + output = layer\n",
        "# output = np.dot(inputs,weights) + bias\n",
        "# tf.keras.layers.Dense(outputsize, kernel_initializer, bias_initializer) takes the inputs provided to the model and calculates the dot product of the inputs and the weights and adds the bias also applies the activation funciton if any\n",
        "\n",
        "# model.compile(optimizer,loss) configures the model for training\n",
        "custom_optimizer = tf.keras.optimizers.SGD(learning_rate=0.02)\n",
        "model.compile(optimizer = custom_optimizer, loss='mean_squared_error') \n",
        "\n",
        "# model.fit(inputs,targets) fits(trains) the model\n",
        "# epochs - iteration over full data set\n",
        "model.fit(training_data['inputs'], training_data['targets'], epochs=100, verbose=0)\n"
      ],
      "execution_count": 0,
      "outputs": [
        {
          "output_type": "execute_result",
          "data": {
            "text/plain": [
              "<tensorflow.python.keras.callbacks.History at 0x7f98ca33cc50>"
            ]
          },
          "metadata": {
            "tags": []
          },
          "execution_count": 40
        }
      ]
    },
    {
      "cell_type": "code",
      "metadata": {
        "id": "5JIStr9eQMen",
        "colab_type": "code",
        "colab": {}
      },
      "source": [
        "input_size = 2 # two input variables (xs,zs)\n",
        "output_size = 1 # only one output\n",
        "\n",
        "model = tf.keras.Sequential([\n",
        "                             tf.keras.layers.Dense(\n",
        "                                output_size,\n",
        "                                kernel_initializer = tf.random_uniform_initializer(minval=-0.1,maxval=0.1),\n",
        "                                bias_initializer = tf.random_uniform_initializer(minval=-0.1,maxval=0.1)\n",
        "                             )\n",
        "]) \n",
        "# sequential funciton specifies how the model will be laid down ('stacks layers')\n",
        "# Linear combination + output = layer\n",
        "# output = np.dot(inputs,weights) + bias\n",
        "# tf.keras.layers.Dense(outputsize, kernel_initializer, bias_initializer) takes the inputs provided to the model and calculates the dot product of the inputs and the weights and adds the bias also applies the activation funciton if any\n",
        "\n",
        "# model.compile(optimizer,loss) configures the model for training\n",
        "custom_optimizer = tf.keras.optimizers.SGD(learning_rate=0.02)\n",
        "model.compile(optimizer = custom_optimizer, loss='mean_squared_error') \n",
        "\n",
        "# model.fit(inputs,targets) fits(trains) the model\n",
        "# epochs - iteration over full data set\n",
        "model.fit(training_data['inputs'], training_data['targets'], epochs=100, verbose=1)\n"
      ],
      "execution_count": 0,
      "outputs": []
    },
    {
      "cell_type": "code",
      "metadata": {
        "id": "KmLJTvapbNi0",
        "colab_type": "code",
        "outputId": "76446204-7c16-4861-d8fc-63d5cc50a296",
        "colab": {
          "base_uri": "https://localhost:8080/",
          "height": 1000
        }
      },
      "source": [
        "input_size = 2 # two input variables (xs,zs)\n",
        "output_size = 1 # only one output\n",
        "\n",
        "model = tf.keras.Sequential([\n",
        "                             tf.keras.layers.Dense(\n",
        "                                output_size,\n",
        "                                kernel_initializer = tf.random_uniform_initializer(minval=-0.1,maxval=0.1),\n",
        "                                bias_initializer = tf.random_uniform_initializer(minval=-0.1,maxval=0.1)\n",
        "                             )\n",
        "]) \n",
        "# sequential funciton specifies how the model will be laid down ('stacks layers')\n",
        "# Linear combination + output = layer\n",
        "# output = np.dot(inputs,weights) + bias\n",
        "# tf.keras.layers.Dense(outputsize, kernel_initializer, bias_initializer) takes the inputs provided to the model and calculates the dot product of the inputs and the weights and adds the bias also applies the activation funciton if any\n",
        "\n",
        "# model.compile(optimizer,loss) configures the model for training\n",
        "custom_optimizer = tf.keras.optimizers.SGD(learning_rate=0.02)\n",
        "model.compile(optimizer = custom_optimizer, loss='mean_squared_error') \n",
        "\n",
        "# model.fit(inputs,targets) fits(trains) the model\n",
        "# epochs - iteration over full data set\n",
        "model.fit(training_data['inputs'], training_data['targets'], epochs=100, verbose=2)\n"
      ],
      "execution_count": 0,
      "outputs": [
        {
          "output_type": "stream",
          "text": [
            "Train on 1000 samples\n",
            "Epoch 1/100\n",
            "1000/1000 - 0s - loss: 25.7496\n",
            "Epoch 2/100\n",
            "1000/1000 - 0s - loss: 1.2841\n",
            "Epoch 3/100\n",
            "1000/1000 - 0s - loss: 0.4836\n",
            "Epoch 4/100\n",
            "1000/1000 - 0s - loss: 0.3825\n",
            "Epoch 5/100\n",
            "1000/1000 - 0s - loss: 0.3619\n",
            "Epoch 6/100\n",
            "1000/1000 - 0s - loss: 0.3871\n",
            "Epoch 7/100\n",
            "1000/1000 - 0s - loss: 0.3528\n",
            "Epoch 8/100\n",
            "1000/1000 - 0s - loss: 0.4076\n",
            "Epoch 9/100\n",
            "1000/1000 - 0s - loss: 0.3901\n",
            "Epoch 10/100\n",
            "1000/1000 - 0s - loss: 0.3866\n",
            "Epoch 11/100\n",
            "1000/1000 - 0s - loss: 0.3580\n",
            "Epoch 12/100\n",
            "1000/1000 - 0s - loss: 0.4002\n",
            "Epoch 13/100\n",
            "1000/1000 - 0s - loss: 0.3766\n",
            "Epoch 14/100\n",
            "1000/1000 - 0s - loss: 0.3995\n",
            "Epoch 15/100\n",
            "1000/1000 - 0s - loss: 0.3836\n",
            "Epoch 16/100\n",
            "1000/1000 - 0s - loss: 0.3512\n",
            "Epoch 17/100\n",
            "1000/1000 - 0s - loss: 0.3497\n",
            "Epoch 18/100\n",
            "1000/1000 - 0s - loss: 0.3622\n",
            "Epoch 19/100\n",
            "1000/1000 - 0s - loss: 0.3829\n",
            "Epoch 20/100\n",
            "1000/1000 - 0s - loss: 0.3875\n",
            "Epoch 21/100\n",
            "1000/1000 - 0s - loss: 0.3678\n",
            "Epoch 22/100\n",
            "1000/1000 - 0s - loss: 0.3870\n",
            "Epoch 23/100\n",
            "1000/1000 - 0s - loss: 0.4006\n",
            "Epoch 24/100\n",
            "1000/1000 - 0s - loss: 0.3869\n",
            "Epoch 25/100\n",
            "1000/1000 - 0s - loss: 0.4148\n",
            "Epoch 26/100\n",
            "1000/1000 - 0s - loss: 0.4151\n",
            "Epoch 27/100\n",
            "1000/1000 - 0s - loss: 0.3719\n",
            "Epoch 28/100\n",
            "1000/1000 - 0s - loss: 0.3922\n",
            "Epoch 29/100\n",
            "1000/1000 - 0s - loss: 0.4300\n",
            "Epoch 30/100\n",
            "1000/1000 - 0s - loss: 0.3932\n",
            "Epoch 31/100\n",
            "1000/1000 - 0s - loss: 0.3649\n",
            "Epoch 32/100\n",
            "1000/1000 - 0s - loss: 0.3777\n",
            "Epoch 33/100\n",
            "1000/1000 - 0s - loss: 0.3681\n",
            "Epoch 34/100\n",
            "1000/1000 - 0s - loss: 0.3608\n",
            "Epoch 35/100\n",
            "1000/1000 - 0s - loss: 0.3789\n",
            "Epoch 36/100\n",
            "1000/1000 - 0s - loss: 0.3826\n",
            "Epoch 37/100\n",
            "1000/1000 - 0s - loss: 0.3664\n",
            "Epoch 38/100\n",
            "1000/1000 - 0s - loss: 0.3762\n",
            "Epoch 39/100\n",
            "1000/1000 - 0s - loss: 0.3621\n",
            "Epoch 40/100\n",
            "1000/1000 - 0s - loss: 0.3847\n",
            "Epoch 41/100\n",
            "1000/1000 - 0s - loss: 0.3803\n",
            "Epoch 42/100\n",
            "1000/1000 - 0s - loss: 0.4584\n",
            "Epoch 43/100\n",
            "1000/1000 - 0s - loss: 0.3747\n",
            "Epoch 44/100\n",
            "1000/1000 - 0s - loss: 0.3901\n",
            "Epoch 45/100\n",
            "1000/1000 - 0s - loss: 0.3994\n",
            "Epoch 46/100\n",
            "1000/1000 - 0s - loss: 0.3698\n",
            "Epoch 47/100\n",
            "1000/1000 - 0s - loss: 0.3657\n",
            "Epoch 48/100\n",
            "1000/1000 - 0s - loss: 0.3929\n",
            "Epoch 49/100\n",
            "1000/1000 - 0s - loss: 0.4286\n",
            "Epoch 50/100\n",
            "1000/1000 - 0s - loss: 0.3666\n",
            "Epoch 51/100\n",
            "1000/1000 - 0s - loss: 0.3685\n",
            "Epoch 52/100\n",
            "1000/1000 - 0s - loss: 0.3630\n",
            "Epoch 53/100\n",
            "1000/1000 - 0s - loss: 0.3988\n",
            "Epoch 54/100\n",
            "1000/1000 - 0s - loss: 0.3535\n",
            "Epoch 55/100\n",
            "1000/1000 - 0s - loss: 0.4001\n",
            "Epoch 56/100\n",
            "1000/1000 - 0s - loss: 0.3987\n",
            "Epoch 57/100\n",
            "1000/1000 - 0s - loss: 0.3662\n",
            "Epoch 58/100\n",
            "1000/1000 - 0s - loss: 0.3954\n",
            "Epoch 59/100\n",
            "1000/1000 - 0s - loss: 0.3649\n",
            "Epoch 60/100\n",
            "1000/1000 - 0s - loss: 0.3918\n",
            "Epoch 61/100\n",
            "1000/1000 - 0s - loss: 0.3946\n",
            "Epoch 62/100\n",
            "1000/1000 - 0s - loss: 0.3747\n",
            "Epoch 63/100\n",
            "1000/1000 - 0s - loss: 0.3675\n",
            "Epoch 64/100\n",
            "1000/1000 - 0s - loss: 0.3615\n",
            "Epoch 65/100\n",
            "1000/1000 - 0s - loss: 0.3621\n",
            "Epoch 66/100\n",
            "1000/1000 - 0s - loss: 0.4216\n",
            "Epoch 67/100\n",
            "1000/1000 - 0s - loss: 0.4030\n",
            "Epoch 68/100\n",
            "1000/1000 - 0s - loss: 0.3560\n",
            "Epoch 69/100\n",
            "1000/1000 - 0s - loss: 0.3671\n",
            "Epoch 70/100\n",
            "1000/1000 - 0s - loss: 0.3771\n",
            "Epoch 71/100\n",
            "1000/1000 - 0s - loss: 0.3661\n",
            "Epoch 72/100\n",
            "1000/1000 - 0s - loss: 0.3925\n",
            "Epoch 73/100\n",
            "1000/1000 - 0s - loss: 0.3926\n",
            "Epoch 74/100\n",
            "1000/1000 - 0s - loss: 0.3767\n",
            "Epoch 75/100\n",
            "1000/1000 - 0s - loss: 0.3599\n",
            "Epoch 76/100\n",
            "1000/1000 - 0s - loss: 0.3542\n",
            "Epoch 77/100\n",
            "1000/1000 - 0s - loss: 0.4440\n",
            "Epoch 78/100\n",
            "1000/1000 - 0s - loss: 0.3870\n",
            "Epoch 79/100\n",
            "1000/1000 - 0s - loss: 0.3531\n",
            "Epoch 80/100\n",
            "1000/1000 - 0s - loss: 0.3977\n",
            "Epoch 81/100\n",
            "1000/1000 - 0s - loss: 0.3876\n",
            "Epoch 82/100\n",
            "1000/1000 - 0s - loss: 0.3519\n",
            "Epoch 83/100\n",
            "1000/1000 - 0s - loss: 0.4608\n",
            "Epoch 84/100\n",
            "1000/1000 - 0s - loss: 0.3786\n",
            "Epoch 85/100\n",
            "1000/1000 - 0s - loss: 0.3840\n",
            "Epoch 86/100\n",
            "1000/1000 - 0s - loss: 0.3786\n",
            "Epoch 87/100\n",
            "1000/1000 - 0s - loss: 0.3717\n",
            "Epoch 88/100\n",
            "1000/1000 - 0s - loss: 0.3731\n",
            "Epoch 89/100\n",
            "1000/1000 - 0s - loss: 0.3679\n",
            "Epoch 90/100\n",
            "1000/1000 - 0s - loss: 0.4033\n",
            "Epoch 91/100\n",
            "1000/1000 - 0s - loss: 0.3997\n",
            "Epoch 92/100\n",
            "1000/1000 - 0s - loss: 0.4063\n",
            "Epoch 93/100\n",
            "1000/1000 - 0s - loss: 0.4029\n",
            "Epoch 94/100\n",
            "1000/1000 - 0s - loss: 0.4690\n",
            "Epoch 95/100\n",
            "1000/1000 - 0s - loss: 0.3726\n",
            "Epoch 96/100\n",
            "1000/1000 - 0s - loss: 0.3717\n",
            "Epoch 97/100\n",
            "1000/1000 - 0s - loss: 0.3753\n",
            "Epoch 98/100\n",
            "1000/1000 - 0s - loss: 0.3698\n",
            "Epoch 99/100\n",
            "1000/1000 - 0s - loss: 0.3863\n",
            "Epoch 100/100\n",
            "1000/1000 - 0s - loss: 0.3802\n"
          ],
          "name": "stdout"
        },
        {
          "output_type": "execute_result",
          "data": {
            "text/plain": [
              "<tensorflow.python.keras.callbacks.History at 0x7f98ca2818d0>"
            ]
          },
          "metadata": {
            "tags": []
          },
          "execution_count": 42
        }
      ]
    },
    {
      "cell_type": "markdown",
      "metadata": {
        "id": "Rl1M5RIIcK7K",
        "colab_type": "text"
      },
      "source": [
        "# Extract weight and biases"
      ]
    },
    {
      "cell_type": "code",
      "metadata": {
        "id": "xomgxRHqcNQV",
        "colab_type": "code",
        "outputId": "1217fe92-22e1-47cf-f90e-71aae9fac8cb",
        "colab": {
          "base_uri": "https://localhost:8080/",
          "height": 51
        }
      },
      "source": [
        "model.layers[0].get_weights()\n",
        "# since we have only 1 layer , layer[0]"
      ],
      "execution_count": 0,
      "outputs": [
        {
          "output_type": "execute_result",
          "data": {
            "text/plain": [
              "[array([[ 1.9280474],\n",
              "        [-2.9362202]], dtype=float32), array([5.012492], dtype=float32)]"
            ]
          },
          "metadata": {
            "tags": []
          },
          "execution_count": 43
        }
      ]
    },
    {
      "cell_type": "code",
      "metadata": {
        "id": "eWGrm1NncYLN",
        "colab_type": "code",
        "outputId": "714288e0-25e9-422b-e78d-a8354abd429b",
        "colab": {
          "base_uri": "https://localhost:8080/",
          "height": 51
        }
      },
      "source": [
        "weights = model.layers[0].get_weights()[0]\n",
        "weights"
      ],
      "execution_count": 0,
      "outputs": [
        {
          "output_type": "execute_result",
          "data": {
            "text/plain": [
              "array([[ 1.9280474],\n",
              "       [-2.9362202]], dtype=float32)"
            ]
          },
          "metadata": {
            "tags": []
          },
          "execution_count": 44
        }
      ]
    },
    {
      "cell_type": "code",
      "metadata": {
        "id": "yAKeh-TZchCC",
        "colab_type": "code",
        "outputId": "56f08139-84ea-4619-f781-1f9245622e12",
        "colab": {
          "base_uri": "https://localhost:8080/",
          "height": 34
        }
      },
      "source": [
        "bias = model.layers[0].get_weights()[1]\n",
        "bias"
      ],
      "execution_count": 0,
      "outputs": [
        {
          "output_type": "execute_result",
          "data": {
            "text/plain": [
              "array([5.012492], dtype=float32)"
            ]
          },
          "metadata": {
            "tags": []
          },
          "execution_count": 45
        }
      ]
    },
    {
      "cell_type": "markdown",
      "metadata": {
        "id": "DqISH86fc5eY",
        "colab_type": "text"
      },
      "source": [
        "# Extract the outputs (make predictions)"
      ]
    },
    {
      "cell_type": "code",
      "metadata": {
        "id": "YpJGa_eTc_V5",
        "colab_type": "code",
        "colab": {}
      },
      "source": [
        "# model.predict_on_batch(data) calculated outputs on given inputs\n",
        "model.predict_on_batch(training_data['inputs'])"
      ],
      "execution_count": 0,
      "outputs": []
    },
    {
      "cell_type": "code",
      "metadata": {
        "id": "-6pjGx6We91o",
        "colab_type": "code",
        "colab": {}
      },
      "source": [
        "model.predict_on_batch(training_data['inputs']).round(1)"
      ],
      "execution_count": 0,
      "outputs": []
    },
    {
      "cell_type": "code",
      "metadata": {
        "id": "V0EWEHWqfB2n",
        "colab_type": "code",
        "colab": {}
      },
      "source": [
        "training_data['targets'].round(1)"
      ],
      "execution_count": 0,
      "outputs": []
    },
    {
      "cell_type": "markdown",
      "metadata": {
        "id": "mGlL7MgEfsIi",
        "colab_type": "text"
      },
      "source": [
        "# Ploting the data"
      ]
    },
    {
      "cell_type": "code",
      "metadata": {
        "id": "EPWsxK2Efv14",
        "colab_type": "code",
        "outputId": "aa3ed229-968f-444e-97e6-8c4c7b62d554",
        "colab": {
          "base_uri": "https://localhost:8080/",
          "height": 279
        }
      },
      "source": [
        "plt.plot(np.squeeze(model.predict_on_batch(training_data['inputs'])), np.squeeze(training_data['targets']))\n",
        "plt.xlabel('outputs')\n",
        "plt.ylabel('targets')\n",
        "plt.show()\n",
        "# inference - if the obtained plot matches 45 degree plot, model is of high accuracy"
      ],
      "execution_count": 0,
      "outputs": [
        {
          "output_type": "display_data",
          "data": {
            "image/png": "[encoded data removed]",
            "text/plain": [
              "<Figure size 432x288 with 1 Axes>"
            ]
          },
          "metadata": {
            "tags": []
          }
        }
      ]
    }
  ]
}